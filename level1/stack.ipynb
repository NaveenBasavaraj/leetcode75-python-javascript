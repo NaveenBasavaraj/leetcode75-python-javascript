{
 "cells": [
  {
   "cell_type": "code",
   "execution_count": 1,
   "metadata": {},
   "outputs": [],
   "source": [
    "class Stack:\n",
    "    '''\n",
    "    push: O(1)\n",
    "    pop: O(1) # check if the stack is empty first\n",
    "    peek: O(1)\n",
    "    '''\n",
    "    def __init__(self) -> None:\n",
    "        self.stack = []\n",
    "    \n",
    "    def push(self, val):\n",
    "        self.stack.append(val)\n",
    "        return True\n",
    "    \n",
    "    def pop(self):\n",
    "        if not len(self.stack):\n",
    "            return None\n",
    "        return self.stack.pop()\n",
    "    \n",
    "    def peek(self):\n",
    "        if not len(self.stack):\n",
    "            return None\n",
    "        return self.stack[-1]\n"
   ]
  },
  {
   "cell_type": "code",
   "execution_count": 2,
   "metadata": {},
   "outputs": [],
   "source": [
    "stack = Stack()\n",
    "stack.peek()"
   ]
  },
  {
   "cell_type": "code",
   "execution_count": 5,
   "metadata": {},
   "outputs": [
    {
     "data": {
      "text/plain": [
       "True"
      ]
     },
     "execution_count": 5,
     "metadata": {},
     "output_type": "execute_result"
    }
   ],
   "source": [
    "stack.push(10)\n",
    "stack.push(15)\n",
    "stack.push(20)\n",
    "stack.push(25)"
   ]
  },
  {
   "cell_type": "code",
   "execution_count": 6,
   "metadata": {},
   "outputs": [
    {
     "data": {
      "text/plain": [
       "25"
      ]
     },
     "execution_count": 6,
     "metadata": {},
     "output_type": "execute_result"
    }
   ],
   "source": [
    "stack.peek()"
   ]
  },
  {
   "cell_type": "code",
   "execution_count": 7,
   "metadata": {},
   "outputs": [
    {
     "data": {
      "text/plain": [
       "25"
      ]
     },
     "execution_count": 7,
     "metadata": {},
     "output_type": "execute_result"
    }
   ],
   "source": [
    "stack.pop()"
   ]
  },
  {
   "cell_type": "code",
   "execution_count": 8,
   "metadata": {},
   "outputs": [
    {
     "ename": "SyntaxError",
     "evalue": "invalid syntax (333497346.py, line 8)",
     "output_type": "error",
     "traceback": [
      "\u001b[1;36m  Cell \u001b[1;32mIn[8], line 8\u001b[1;36m\u001b[0m\n\u001b[1;33m    minVal = min(val, self.stack[-1] is self.minValStack else val)\u001b[0m\n\u001b[1;37m                                                         ^\u001b[0m\n\u001b[1;31mSyntaxError\u001b[0m\u001b[1;31m:\u001b[0m invalid syntax\n"
     ]
    }
   ],
   "source": [
    "class MinValueStack:\n",
    "    def __init__(self) -> None:\n",
    "        self.stack = []\n",
    "        self.minValStack = []\n",
    "    \n",
    "    def push(self, val):\n",
    "        self.stack.append(val)\n",
    "        minVal = min(val, self.minValStack[-1] if self.minValStack else val)\n",
    "        self.minValStack.append(minVal)\n",
    "    \n",
    "    def pop(self):\n",
    "        if not len(self.stack):\n",
    "            self.stack.pop()\n",
    "        if not len(self.minValStack):\n",
    "            self.minValStack.pop()\n",
    "        return\n",
    "    \n",
    "    def peek(self):\n",
    "        if not len(self.stack):\n",
    "            return self.stack[-1]\n",
    "    \n",
    "    def getMin(self):\n",
    "        return self.minValStack[-1]\n"
   ]
  },
  {
   "cell_type": "code",
   "execution_count": null,
   "metadata": {},
   "outputs": [],
   "source": []
  }
 ],
 "metadata": {
  "kernelspec": {
   "display_name": "Python 3",
   "language": "python",
   "name": "python3"
  },
  "language_info": {
   "codemirror_mode": {
    "name": "ipython",
    "version": 3
   },
   "file_extension": ".py",
   "mimetype": "text/x-python",
   "name": "python",
   "nbconvert_exporter": "python",
   "pygments_lexer": "ipython3",
   "version": "3.12.2"
  }
 },
 "nbformat": 4,
 "nbformat_minor": 2
}
