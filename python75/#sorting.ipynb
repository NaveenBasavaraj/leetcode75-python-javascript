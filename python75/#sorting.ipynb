{
 "cells": [
  {
   "cell_type": "markdown",
   "metadata": {},
   "source": []
  },
  {
   "cell_type": "code",
   "execution_count": null,
   "metadata": {},
   "outputs": [],
   "source": [
    "class Sorting:\n",
    "    def insertionSort(self, nums):\n",
    "        # start from num at position 1\n",
    "        for i in range(1, len(nums)):\n",
    "            # take previous num as j\n",
    "            # start comparing curr num with prev num\n",
    "            # and keep swapping\n",
    "            j = i - 1\n",
    "\n",
    "            while j >= 0 and  nums[j] > nums[j+1]:\n",
    "                tmp = nums[j+1]\n",
    "                nums[j+1] = nums[j]\n",
    "                nums[j] = tmp\n",
    "                j -= 1\n",
    "            return nums\n"
   ]
  }
 ],
 "metadata": {
  "language_info": {
   "name": "python"
  }
 },
 "nbformat": 4,
 "nbformat_minor": 2
}
