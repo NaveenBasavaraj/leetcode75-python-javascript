{
 "cells": [
  {
   "cell_type": "markdown",
   "metadata": {},
   "source": [
    "#### Is Valid Anagram ?\n",
    "\n",
    "Given two strings s and t, return true if t is an anagram of s, and false otherwise.\n",
    "\n",
    "An Anagram is a word or phrase formed by rearranging the letters of a different word or phrase, typically using all the original letters exactly once.\n",
    "\n",
    " \n",
    "\n",
    "Example 1:\n",
    "\n",
    "* Input: s = \"anagram\", t = \"nagaram\"\n",
    "\n",
    "* Output: true\n",
    "\n",
    "Example 2:\n",
    "\n",
    "* Input: s = \"rat\", t = \"car\"\n",
    "\n",
    "* Output: false"
   ]
  },
  {
   "cell_type": "code",
   "execution_count": 4,
   "metadata": {},
   "outputs": [
    {
     "name": "stdout",
     "output_type": "stream",
     "text": [
      "True\n",
      "True\n",
      "True\n",
      "False\n",
      "False\n",
      "False\n"
     ]
    }
   ],
   "source": [
    "class Anagram:\n",
    "    def isAnagram(self, s1, s2):\n",
    "        if len(s1) != len(s2):\n",
    "            return False\n",
    "        hash_s1, hash_s2 = {}, {}\n",
    "        for i in range(len(s1)):\n",
    "            hash_s1[s1[i]] = 1 + hash_s1.get(s1[i], 0)\n",
    "            hash_s2[s2[i]] = 1 + hash_s2.get(s2[i], 0)\n",
    "        return hash_s1 == hash_s2\n",
    "    \n",
    "    def isAnagramSorted(self, s1, s2):\n",
    "        return sorted(s1) == sorted(s2)\n",
    "    \n",
    "    def isAnagramFreqCount(self, s1, s2):\n",
    "        if len(s1) != len(s1):\n",
    "            return False\n",
    "        \n",
    "        char_count = [0] * 256\n",
    "        for char in s1:\n",
    "            char_count[ord(char)] += 1\n",
    "        \n",
    "        for char in s2:\n",
    "            char_count[ord(char)] -= 1\n",
    "        \n",
    "            if char_count[ord(char)] < 0:\n",
    "                return False\n",
    "        \n",
    "        return True\n",
    "\n",
    "res = Anagram()\n",
    "\n",
    "print(res.isAnagram(s1 = \"anagram\", s2 = \"nagaram\"))\n",
    "print(res.isAnagramSorted(s1 = \"anagram\", s2 = \"nagaram\"))\n",
    "print(res.isAnagramFreqCount(s1 = \"anagram\", s2 = \"nagaram\"))\n",
    "\n",
    "print(res.isAnagram(s1 = \"rat\", s2 = \"cat\"))\n",
    "print(res.isAnagramSorted(s1 = \"rat\", s2 = \"cat\"))\n",
    "print(res.isAnagramFreqCount(s1 = \"rat\", s2 = \"cat\"))\n"
   ]
  },
  {
   "cell_type": "markdown",
   "metadata": {},
   "source": [
    "#### Group Anagrams\n",
    "Given an array of strings strs, group the anagrams together. You can return the answer in any order.\n",
    "\n",
    "An Anagram is a word or phrase formed by rearranging the letters of a different word or phrase, typically using all the original letters exactly once.\n",
    "\n",
    " \n",
    "\n",
    "Example 1:\n",
    "\n",
    "* Input: strs = [\"eat\",\"tea\",\"tan\",\"ate\",\"nat\",\"bat\"]\n",
    "\n",
    "* Output: [[\"bat\"],[\"nat\",\"tan\"],[\"ate\",\"eat\",\"tea\"]]\n",
    "\n",
    "Example 2:\n",
    "\n",
    "* Input: strs = [\"\"]\n",
    "\n",
    "* Output: [[\"\"]]\n",
    "\n",
    "Example 3:\n",
    "\n",
    "* Input: strs = [\"a\"]\n",
    "\n",
    "* Output: [[\"a\"]]\n",
    " \n",
    "\n",
    "Constraints:\n",
    "\n",
    "* 1 <= strs.length <= 104\n",
    "\n",
    "* 0 <= strs[i].length <= 100\n",
    "\n",
    "* strs[i] consists of lowercase English letters.\n"
   ]
  },
  {
   "cell_type": "code",
   "execution_count": 7,
   "metadata": {},
   "outputs": [
    {
     "name": "stdout",
     "output_type": "stream",
     "text": [
      "dict_values([['eat', 'tea', 'ate'], ['tan', 'nat'], ['bat']])\n",
      "dict_values([['eat', 'tea', 'ate'], ['tan', 'nat'], ['bat']])\n"
     ]
    }
   ],
   "source": [
    "from collections import defaultdict\n",
    "class GroupAnagrams:\n",
    "    def grouping26(self, string_list):\n",
    "        grouped_dict = defaultdict(list)\n",
    "\n",
    "        for word in string_list:\n",
    "            # we will create an hash key for each word using list\n",
    "            # then convert that list to tuple\n",
    "            # and use it in grouped_dict as key\n",
    "            count = [0] * 26 # there are 26 letters in an alphabet\n",
    "            for c in word:\n",
    "                count[ord(c)-ord(\"a\")] += 1\n",
    "            grouped_dict[tuple(count)].append(word)\n",
    "        \n",
    "        return grouped_dict.values()\n",
    "    \n",
    "    def grouping256(self, string_list):\n",
    "        grouped_dict = defaultdict(list)\n",
    "\n",
    "        for word in string_list:\n",
    "            count = [0] * 256\n",
    "            for c in word:\n",
    "                count[ord(c)] += 1\n",
    "            grouped_dict[tuple(count)].append(word)\n",
    "        \n",
    "        return grouped_dict.values()\n",
    "\n",
    "\n",
    "res = GroupAnagrams()\n",
    "print(res.grouping26(string_list= [\"eat\",\"tea\",\"tan\",\"ate\",\"nat\",\"bat\"]))\n",
    "print(res.grouping256(string_list= [\"eat\",\"tea\",\"tan\",\"ate\",\"nat\",\"bat\"]))"
   ]
  },
  {
   "cell_type": "code",
   "execution_count": null,
   "metadata": {},
   "outputs": [],
   "source": []
  }
 ],
 "metadata": {
  "kernelspec": {
   "display_name": "Python 3",
   "language": "python",
   "name": "python3"
  },
  "language_info": {
   "codemirror_mode": {
    "name": "ipython",
    "version": 3
   },
   "file_extension": ".py",
   "mimetype": "text/x-python",
   "name": "python",
   "nbconvert_exporter": "python",
   "pygments_lexer": "ipython3",
   "version": "3.12.2"
  }
 },
 "nbformat": 4,
 "nbformat_minor": 2
}
